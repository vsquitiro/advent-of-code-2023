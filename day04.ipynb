{
 "cells": [
  {
   "cell_type": "code",
   "execution_count": 16,
   "metadata": {},
   "outputs": [
    {
     "name": "stdout",
     "output_type": "stream",
     "text": [
      "21919\n"
     ]
    }
   ],
   "source": [
    "import os\n",
    "cwd = os.getcwd()\n",
    "file = cwd + '/inputs/input04.txt'\n",
    "\n",
    "data = open(file).read().splitlines()\n",
    "\n",
    "def parse_data(data):\n",
    "  parsed_data = []\n",
    "  for line in data:\n",
    "    first_split = line.split(':')[1].split('|')\n",
    "    parsed_data += [[first_split[0].split(), first_split[1].split()]]\n",
    "  return parsed_data\n",
    "\n",
    "def check_wins(ticket):\n",
    "  win_count = 0\n",
    "  for winner in ticket[0]:\n",
    "    if winner in ticket[1]:\n",
    "      win_count += 1\n",
    "  if win_count == 0:\n",
    "    return 0\n",
    "  return 2**(win_count - 1)\n",
    "\n",
    "\n",
    "tickets = parse_data(data)\n",
    "result = 0\n",
    "for ticket in tickets:\n",
    "  result += check_wins(ticket)\n",
    "print(result)"
   ]
  },
  {
   "cell_type": "code",
   "execution_count": 30,
   "metadata": {},
   "outputs": [
    {
     "name": "stdout",
     "output_type": "stream",
     "text": [
      "9881048\n"
     ]
    }
   ],
   "source": [
    "import os\n",
    "cwd = os.getcwd()\n",
    "file = cwd + '/inputs/input04.txt'\n",
    "\n",
    "data = open(file).read().splitlines()\n",
    "card_counts = [1 for i in range(len(data))]\n",
    "max_ticket_num = len(data)\n",
    "\n",
    "def parse_data(data):\n",
    "  parsed_data = []\n",
    "  for line in data:\n",
    "    first_split = line.split(':')[1].split('|')\n",
    "    parsed_data += [[first_split[0].split(), first_split[1].split()]]\n",
    "  return parsed_data\n",
    "\n",
    "def check_wins(ticket):\n",
    "  win_count = 0\n",
    "  for winner in ticket[0]:\n",
    "    if winner in ticket[1]:\n",
    "      win_count += 1\n",
    "  return win_count\n",
    "\n",
    "def update_card_counts(start, wins):\n",
    "  i = start\n",
    "  for j in range(wins):\n",
    "    i += 1\n",
    "    if i < max_ticket_num:\n",
    "      card_counts[i] += card_counts[start]\n",
    "\n",
    "tickets = parse_data(data)\n",
    "for i in range(len(tickets)):\n",
    "  update_card_counts(i, check_wins(tickets[i]))\n",
    "print(sum(card_counts))\n",
    "  "
   ]
  }
 ],
 "metadata": {
  "kernelspec": {
   "display_name": "Python 3",
   "language": "python",
   "name": "python3"
  },
  "language_info": {
   "codemirror_mode": {
    "name": "ipython",
    "version": 3
   },
   "file_extension": ".py",
   "mimetype": "text/x-python",
   "name": "python",
   "nbconvert_exporter": "python",
   "pygments_lexer": "ipython3",
   "version": "3.9.6"
  }
 },
 "nbformat": 4,
 "nbformat_minor": 2
}
