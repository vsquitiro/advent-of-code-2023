{
 "cells": [
  {
   "cell_type": "code",
   "execution_count": 21,
   "metadata": {},
   "outputs": [
    {
     "name": "stdout",
     "output_type": "stream",
     "text": [
      "2406\n"
     ]
    }
   ],
   "source": [
    "import os\n",
    "cwd = os.getcwd()\n",
    "file = cwd + '/inputs/input02.txt'\n",
    "\n",
    "data = open(file).read().splitlines()\n",
    "\n",
    "def line_parser(line):\n",
    "  cubes = line.split(':')[1].replace(';',',').split(',')\n",
    "  cube_array = []\n",
    "  for cube_set in cubes:\n",
    "    cube_array.append(cube_set[1:].split(' '))\n",
    "  return cube_array\n",
    "\n",
    "color_max = { \"red\": 12, \"green\": 13, \"blue\": 14 }\n",
    "\n",
    "result = 0\n",
    "game = 1\n",
    "for line in data:\n",
    "  valid = True\n",
    "  parsed_line = line_parser(line)\n",
    "  for cube in parsed_line:\n",
    "    if valid:\n",
    "      if color_max[cube[1]] < int(cube[0]):\n",
    "        valid = False\n",
    "  if valid:\n",
    "    result += game\n",
    "  game += 1\n",
    "\n",
    "print(result)\n"
   ]
  },
  {
   "cell_type": "code",
   "execution_count": 25,
   "metadata": {},
   "outputs": [
    {
     "name": "stdout",
     "output_type": "stream",
     "text": [
      "78375\n"
     ]
    }
   ],
   "source": [
    "import os\n",
    "cwd = os.getcwd()\n",
    "file = cwd + '/inputs/input02.txt'\n",
    "\n",
    "data = open(file).read().splitlines()\n",
    "\n",
    "def line_parser(line):\n",
    "  cubes = line.split(':')[1].replace(';',',').split(',')\n",
    "  cube_array = []\n",
    "  for cube_set in cubes:\n",
    "    cube_array.append(cube_set[1:].split(' '))\n",
    "  return cube_array\n",
    "\n",
    "result = 0\n",
    "for line in data:\n",
    "  color_min = { \"red\": 0, \"green\": 0, \"blue\": 0 }\n",
    "  parsed_line = line_parser(line)\n",
    "  for cube in parsed_line:\n",
    "    if int(cube[0]) > color_min[cube[1]]:\n",
    "      color_min[cube[1]] = int(cube[0])\n",
    "  result += color_min[\"red\"] * color_min[\"green\"] * color_min[\"blue\"]\n",
    "\n",
    "print(result)"
   ]
  }
 ],
 "metadata": {
  "kernelspec": {
   "display_name": "Python 3.9.6 64-bit",
   "language": "python",
   "name": "python3"
  },
  "language_info": {
   "codemirror_mode": {
    "name": "ipython",
    "version": 3
   },
   "file_extension": ".py",
   "mimetype": "text/x-python",
   "name": "python",
   "nbconvert_exporter": "python",
   "pygments_lexer": "ipython3",
   "version": "3.9.6"
  },
  "orig_nbformat": 4,
  "vscode": {
   "interpreter": {
    "hash": "31f2aee4e71d21fbe5cf8b01ff0e069b9275f58929596ceb00d14d90e3e16cd6"
   }
  }
 },
 "nbformat": 4,
 "nbformat_minor": 2
}
