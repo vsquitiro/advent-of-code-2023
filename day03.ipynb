{
 "cells": [
  {
   "cell_type": "code",
   "execution_count": 21,
   "metadata": {},
   "outputs": [],
   "source": [
    "import os\n",
    "cwd = os.getcwd()\n",
    "file = cwd + '/inputs/input03.txt'\n",
    "\n",
    "data = open(file).read().splitlines()\n",
    "\n",
    "line_length = len(data[0])\n",
    "\n",
    "def parse_line(line_idx):\n",
    "  result = 0\n",
    "  line = data[line_idx]\n",
    "  i = 0\n",
    "  while (i < len(line)):\n",
    "    if line[i].isnumeric():\n",
    "      start = i\n",
    "      while i + 1 < len(line) and line[i+1].isnumeric():\n",
    "        i += 1\n",
    "      end = i\n",
    "      if part_check(start,end,line_idx):\n",
    "        result += int(line[start:end+1])\n",
    "    i += 1\n",
    "  return result\n",
    "\n",
    "def part_check(start,end,i):\n",
    "  if start > 0:\n",
    "    start = start - 1\n",
    "  if end + 1 < line_length:\n",
    "    end = end + 1\n",
    "  is_part = False\n",
    "  if i > 0:\n",
    "    if check_line(start,end,i - 1):\n",
    "      return True\n",
    "  if i + 1 < len(data):\n",
    "    if check_line(start,end,i + 1):\n",
    "      return True\n",
    "  if symbol_check(data[i][start]):\n",
    "    return True\n",
    "  return symbol_check(data[i][end])\n",
    "\n",
    "\n",
    "def check_line(start,end,data_idx):\n",
    "  symbol = False\n",
    "  line = data[data_idx]\n",
    "  i = start\n",
    "  while not symbol and i <= end:\n",
    "    if symbol_check(line[i]):\n",
    "      symbol = True\n",
    "    i += 1\n",
    "  return symbol\n",
    "\n",
    "def symbol_check(s):\n",
    "  return (not s.isnumeric()) and s != '.'\n",
    "\n",
    "result = 0\n",
    "for i in range(len(data)):\n",
    "  result += parse_line(i)\n",
    "print(result)"
   ]
  }
 ],
 "metadata": {
  "kernelspec": {
   "display_name": "Python 3.9.6 64-bit",
   "language": "python",
   "name": "python3"
  },
  "language_info": {
   "codemirror_mode": {
    "name": "ipython",
    "version": 3
   },
   "file_extension": ".py",
   "mimetype": "text/x-python",
   "name": "python",
   "nbconvert_exporter": "python",
   "pygments_lexer": "ipython3",
   "version": "3.9.6"
  },
  "orig_nbformat": 4,
  "vscode": {
   "interpreter": {
    "hash": "31f2aee4e71d21fbe5cf8b01ff0e069b9275f58929596ceb00d14d90e3e16cd6"
   }
  }
 },
 "nbformat": 4,
 "nbformat_minor": 2
}
