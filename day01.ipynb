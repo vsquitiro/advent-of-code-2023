{
 "cells": [
  {
   "cell_type": "code",
   "execution_count": 19,
   "metadata": {},
   "outputs": [
    {
     "name": "stdout",
     "output_type": "stream",
     "text": [
      "54239\n"
     ]
    }
   ],
   "source": [
    "import os\n",
    "cwd = os.getcwd()\n",
    "file = cwd + '/inputs/input01.txt'\n",
    "\n",
    "def find_first(text):\n",
    "  first = None\n",
    "  i = 0\n",
    "  while first is None:\n",
    "    if text[i].isnumeric():\n",
    "      first = text[i]\n",
    "    i += 1\n",
    "  return first\n",
    "\n",
    "def find_last(text):\n",
    "  last = None\n",
    "  i = len(text) - 1\n",
    "  while last is None:\n",
    "    if text[i].isnumeric():\n",
    "      last = text[i]\n",
    "    i -= 1\n",
    "  return last\n",
    "\n",
    "data = open(file).read().splitlines()\n",
    "result = 0\n",
    "for line in data:\n",
    "  calibration_string = find_first(line)\n",
    "  calibration_string += find_last(line)\n",
    "  result += int(calibration_string)\n",
    "print(result)\n",
    "\n",
    "  \n",
    "  \n",
    "\n",
    "\n"
   ]
  },
  {
   "cell_type": "code",
   "execution_count": 24,
   "metadata": {},
   "outputs": [
    {
     "name": "stdout",
     "output_type": "stream",
     "text": [
      "55343\n"
     ]
    }
   ],
   "source": [
    "import os\n",
    "cwd = os.getcwd()\n",
    "file = cwd + '/inputs/input01.txt'\n",
    "\n",
    "number_dictionary = [\n",
    "  ['0', 0],\n",
    "  ['1', 1],\n",
    "  ['2', 2],\n",
    "  ['3', 3],\n",
    "  ['4', 4],\n",
    "  ['5', 5],\n",
    "  ['6', 6],\n",
    "  ['7', 7],\n",
    "  ['8', 8],\n",
    "  ['9', 9],\n",
    "  ['zero', 0],\n",
    "  ['one', 1],\n",
    "  ['two', 2],\n",
    "  ['three', 3],\n",
    "  ['four', 4],\n",
    "  ['five', 5],\n",
    "  ['six', 6],\n",
    "  ['seven', 7],\n",
    "  ['eight', 8],\n",
    "  ['nine', 9]\n",
    "]\n",
    "\n",
    "def find_first(text):\n",
    "  first_i = None\n",
    "  first = None\n",
    "  for number in number_dictionary:\n",
    "    i = text.find(number[0])\n",
    "    if i != -1 and (first_i is None or i < first_i):\n",
    "      first_i = i\n",
    "      first = number[1]\n",
    "  return first\n",
    "\n",
    "def find_last(text):\n",
    "  last_i = None\n",
    "  last = None\n",
    "  for number in number_dictionary:\n",
    "    i = text.rfind(number[0])\n",
    "    if i != -1 and (last_i is None or i > last_i):\n",
    "      last_i = i\n",
    "      last = number[1]\n",
    "  return last\n",
    "\n",
    "data = open(file).read().splitlines()\n",
    "result = 0\n",
    "for line in data:\n",
    "  calibration_string = find_first(line)\n",
    "  calibration_string = (calibration_string * 10) + find_last(line)\n",
    "  result += int(calibration_string)\n",
    "print(result)"
   ]
  }
 ],
 "metadata": {
  "kernelspec": {
   "display_name": "Python 3.9.6 64-bit",
   "language": "python",
   "name": "python3"
  },
  "language_info": {
   "codemirror_mode": {
    "name": "ipython",
    "version": 3
   },
   "file_extension": ".py",
   "mimetype": "text/x-python",
   "name": "python",
   "nbconvert_exporter": "python",
   "pygments_lexer": "ipython3",
   "version": "3.9.6"
  },
  "orig_nbformat": 4,
  "vscode": {
   "interpreter": {
    "hash": "31f2aee4e71d21fbe5cf8b01ff0e069b9275f58929596ceb00d14d90e3e16cd6"
   }
  }
 },
 "nbformat": 4,
 "nbformat_minor": 2
}
